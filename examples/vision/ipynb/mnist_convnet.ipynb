{
  "cells": [
    {
      "cell_type": "markdown",
      "metadata": {
        "id": "view-in-github",
        "colab_type": "text"
      },
      "source": [
        "<a href=\"https://colab.research.google.com/github/filipehcunha/filipehcunha/blob/main/examples/vision/ipynb/mnist_convnet.ipynb\" target=\"_parent\"><img src=\"https://colab.research.google.com/assets/colab-badge.svg\" alt=\"Open In Colab\"/></a>"
      ]
    },
    {
      "cell_type": "markdown",
      "metadata": {
        "id": "qUFq3q4Ao31z"
      },
      "source": [
        "# Simple MNIST convnet\n",
        "\n",
        "**Author:** [fchollet](https://twitter.com/fchollet)<br>\n",
        "**Date created:** 2015/06/19<br>\n",
        "**Last modified:** 2020/04/21<br>\n",
        "**Description:** A simple convnet that achieves ~99% test accuracy on MNIST."
      ]
    },
    {
      "cell_type": "markdown",
      "metadata": {
        "id": "vm_5F9tzo310"
      },
      "source": [
        "## Setup"
      ]
    },
    {
      "cell_type": "code",
      "execution_count": null,
      "metadata": {
        "id": "tlseHSuGo311"
      },
      "outputs": [],
      "source": [
        "import numpy as np\n",
        "import keras\n",
        "from keras import layers"
      ]
    },
    {
      "cell_type": "markdown",
      "metadata": {
        "id": "vGKxVdoRo312"
      },
      "source": [
        "## Prepare the data"
      ]
    },
    {
      "cell_type": "code",
      "execution_count": null,
      "metadata": {
        "id": "DNif0NV4o313"
      },
      "outputs": [],
      "source": [
        "# Parâmetros do modelo e dos dados\n",
        "num_classes = 10               # Dígitos de 0 a 9 – total de 10 classes possíveis.\n",
        "input_shape = (28, 28, 1)      # Formato das imagens: 28x28 pixels com 1 canal (escala de cinza).\n",
        "\n",
        "#* x_train, y_train – conjunto principal (~90%) usado para AJUSTAR os pesos do modelo.\n",
        "#* Esses dados são onde a rede “aprende” padrões e relações dos dígitos.\n",
        "\n",
        "#* x_test, y_test – dados completamente novos, utilizados apenas no final para AVALIAR\n",
        "#* se o modelo generaliza bem para dados reais. Garante uma avaliação imparcial.\n",
        "\n",
        "# Carrega os dados e divide entre conjuntos de treino e teste\n",
        "(x_train, y_train), (x_test, y_test) = keras.datasets.mnist.load_data()\n",
        "\n",
        "# Escala os valores dos pixels para o intervalo [0, 1]\n",
        "x_train = x_train.astype(\"float32\") / 255\n",
        "x_test = x_test.astype(\"float32\") / 255\n",
        "\n",
        "# Garante que as imagens tenham a forma (28, 28, 1), adicionando uma dimensão de canal\n",
        "x_train = np.expand_dims(x_train, -1)\n",
        "x_test = np.expand_dims(x_test, -1)\n",
        "\n",
        "# Exibe informações sobre o conjunto de treino e teste\n",
        "print(\"x_train shape:\", x_train.shape)\n",
        "print(x_train.shape[0], \"train samples\")\n",
        "print(x_test.shape[0], \"test samples\")\n",
        "\n",
        "# Converte os rótulos das classes para vetores binários no formato one-hot\n",
        "y_train = keras.utils.to_categorical(y_train, num_classes)\n",
        "y_test = keras.utils.to_categorical(y_test, num_classes)"
      ]
    },
    {
      "cell_type": "markdown",
      "metadata": {
        "id": "05vsIpD0o313"
      },
      "source": [
        "## Build the model"
      ]
    },
    {
      "cell_type": "code",
      "execution_count": null,
      "metadata": {
        "id": "G3WJYegMo314"
      },
      "outputs": [],
      "source": [
        "\n",
        "model = keras.Sequential(\n",
        "    [\n",
        "        keras.Input(shape=input_shape),\n",
        "        layers.Conv2D(32, kernel_size=(3, 3), activation=\"relu\"),\n",
        "        layers.MaxPooling2D(pool_size=(2, 2)),\n",
        "        layers.Conv2D(64, kernel_size=(3, 3), activation=\"relu\"),\n",
        "        layers.MaxPooling2D(pool_size=(2, 2)),\n",
        "        layers.Flatten(),\n",
        "        layers.Dropout(0.5),\n",
        "        layers.Dense(num_classes, activation=\"softmax\"),\n",
        "    ]\n",
        ")\n",
        "\n",
        "model.summary()"
      ]
    },
    {
      "cell_type": "markdown",
      "metadata": {
        "id": "HhjiQ7sHo316"
      },
      "source": [
        "## Train the model"
      ]
    },
    {
      "cell_type": "code",
      "execution_count": null,
      "metadata": {
        "id": "VPW9sBuyo317"
      },
      "outputs": [],
      "source": [
        "\n",
        "batch_size = 128     # Número de amostras por lote durante o treinamento.\n",
        "epochs = 15          # Número de vezes que o modelo verá todo o conjunto de treino.\n",
        "\n",
        "# Compila o modelo com função de perda, otimizador e métrica\n",
        "model.compile(\n",
        "    loss=\"categorical_crossentropy\",     # Perda usada para classificação multiclasse.\n",
        "    optimizer=\"adam\",                    # Otimizador eficiente e amplamente utilizado.\n",
        "    metrics=[\"accuracy\"],                # Métrica monitorada: acurácia.\n",
        ")\n",
        "\n",
        "# Treina o modelo com os dados de treino, utilizando 10% para validação\n",
        "model.fit(x_train, y_train, batch_size=batch_size, epochs=epochs, validation_split=0.1)\n"
      ]
    },
    {
      "cell_type": "markdown",
      "metadata": {
        "id": "GJG7ZwiDo317"
      },
      "source": [
        "## Evaluate the trained model"
      ]
    },
    {
      "cell_type": "code",
      "execution_count": null,
      "metadata": {
        "id": "SNGPu8nko318"
      },
      "outputs": [],
      "source": [
        "\n",
        "# Avalia o desempenho do modelo nos dados de teste (nunca vistos antes)\n",
        "score = model.evaluate(x_test, y_test, verbose=0)\n",
        "\n",
        "# Exibe a perda e a acurácia no conjunto de teste\n",
        "print(\"Test loss:\", score[0])\n",
        "print(\"Test accuracy:\", score[1])"
      ]
    }
  ],
  "metadata": {
    "accelerator": "GPU",
    "colab": {
      "name": "mnist_convnet",
      "provenance": [],
      "include_colab_link": true
    },
    "kernelspec": {
      "display_name": "Python 3",
      "language": "python",
      "name": "python3"
    },
    "language_info": {
      "codemirror_mode": {
        "name": "ipython",
        "version": 3
      },
      "file_extension": ".py",
      "mimetype": "text/x-python",
      "name": "python",
      "nbconvert_exporter": "python",
      "pygments_lexer": "ipython3",
      "version": "3.7.0"
    }
  },
  "nbformat": 4,
  "nbformat_minor": 0
}